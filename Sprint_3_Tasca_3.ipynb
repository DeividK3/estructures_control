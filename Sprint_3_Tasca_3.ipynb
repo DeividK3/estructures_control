{
 "cells": [
  {
   "cell_type": "markdown",
   "metadata": {},
   "source": [
    "# Sprint 3 Tasca 3: Estructura de control"
   ]
  },
  {
   "cell_type": "markdown",
   "metadata": {},
   "source": [
    "## Exercici 1\n",
    "__L'exercici consisteix a crear un programa que et classifiqui una variable numèrica en funció de l’escala Suspès/Aprovat/Notable/Excel·lent.__"
   ]
  },
  {
   "cell_type": "code",
   "execution_count": 13,
   "metadata": {},
   "outputs": [
    {
     "name": "stdout",
     "output_type": "stream",
     "text": [
      "La nota 4 és un Suspès\n",
      "La nota 5.6 és un Aprovat\n",
      "La nota 7.8 és un Aprovat\n",
      "La nota 9.4 és un Excel·lent\n",
      "L'argument no és un nombre entre 0 i 10\n",
      "L'argument no és un nombre\n"
     ]
    }
   ],
   "source": [
    "def nota(num):\n",
    "    try: \n",
    "        if num < 5:\n",
    "            print (\"La nota \" + str(num) + \" és un Suspès\")\n",
    "        elif num >= 5 and num < 8:\n",
    "            print (\"La nota \" + str(num) + \" és un Aprovat\")\n",
    "        elif num >= 7 and num < 9:\n",
    "            print (\"La nota \" + str(num) + \" és un Notable\")\n",
    "        elif num >= 9 and num <= 10:\n",
    "            print (\"La nota \" + str(num) + \" és un Excel·lent\")\n",
    "        else:\n",
    "            print (\"L'argument no és un nombre entre 0 i 10\")\n",
    "    except TypeError:\n",
    "        print (\"L'argument no és un nombre\")       \n",
    "               \n",
    "nota(4)\n",
    "nota(5.6)\n",
    "nota(7.8)\n",
    "nota(9.4)\n",
    "nota(12)\n",
    "nota(\"Gos\")               "
   ]
  },
  {
   "cell_type": "markdown",
   "metadata": {},
   "source": [
    "## Exercici 2\n",
    "__Utilitzant el següent tutorial Programiz: Python Input, Output and Import crea un programa que et pregunti dos números. T’ha de mostrar un missatge dient si el primer és més gran, el segon és més gran o són iguals.__"
   ]
  },
  {
   "cell_type": "code",
   "execution_count": 48,
   "metadata": {},
   "outputs": [
    {
     "name": "stdout",
     "output_type": "stream",
     "text": [
      "Introdueix el primer nombre: 5\n",
      "Introdueix el segon nombre: 2\n",
      "El primer nombre és més gran\n"
     ]
    }
   ],
   "source": [
    "def comparar_2():\n",
    "    try:\n",
    "        x = float(input('Introdueix el primer nombre: '))\n",
    "        y = float(input('Introdueix el segon nombre: '))\n",
    "        if x > y:\n",
    "            print(\"El primer nombre és més gran\")\n",
    "        elif x < y:\n",
    "            print(\"El segon nombre és més gran\")\n",
    "        else:\n",
    "            print(\"Els dos nombres son igual\")\n",
    "    except ValueError:\n",
    "        print(\"Algun input no és un nombre\")\n",
    "        \n",
    "comparar_2()"
   ]
  },
  {
   "cell_type": "markdown",
   "metadata": {},
   "source": [
    "## Exercici 3\n",
    "__Crea un programa que et pregunti el teu nom, i et demani un número. Si el número és 0, hauria de mostrar un missatge d’error. En cas contrari, hauria de mostrar el nom repetit tants cops com indiqui el número. Per exemple, “Joan Joan Joan”.__"
   ]
  },
  {
   "cell_type": "code",
   "execution_count": 47,
   "metadata": {},
   "outputs": [
    {
     "name": "stdout",
     "output_type": "stream",
     "text": [
      "Quin es el teu nom?: David\n",
      "Quantes vegades vols repetir el nom?: 5\n",
      "['David', 'David', 'David', 'David', 'David']\n"
     ]
    }
   ],
   "source": [
    "def nom_rep():\n",
    "    try:\n",
    "        nom = input('Quin es el teu nom?: ')\n",
    "        num = int(input('Quantes vegades vols repetir el nom?: '))\n",
    "        if num == 0:\n",
    "            print(\"Error: el número ha de ser un enter major que 0\")\n",
    "        else:\n",
    "            print([nom]*num)\n",
    "    except ValueError:\n",
    "        print(\"El segon input no és un enter\")  \n",
    "\n",
    "nom_rep()"
   ]
  },
  {
   "cell_type": "markdown",
   "metadata": {},
   "source": [
    "## Exercici 4\n",
    "__Crea un programa que donada una llista qualsevol, et digui si es simètrica o no. Si ho és, que et digui quants elements té.__"
   ]
  },
  {
   "cell_type": "code",
   "execution_count": 6,
   "metadata": {},
   "outputs": [
    {
     "name": "stdout",
     "output_type": "stream",
     "text": [
      "La llista és simètrica i té 3 elements diferents\n",
      "La llista és simètrica i té 2 elements diferents\n",
      "No és una llista simètrica\n",
      "No és una llista simètrica\n",
      "La llista és simètrica i té 1 elements diferents\n",
      "La llista és simètrica i té 1 elements diferents\n",
      "No és una llista simètrica\n"
     ]
    }
   ],
   "source": [
    "def llista_sim(llista):\n",
    "    llista_b = llista[::-1]\n",
    "    if llista == llista_b:\n",
    "        if len(llista) % 2 == 0:\n",
    "            print('La llista és simètrica i té {} elements diferents'.format(len(llista)//2))\n",
    "        else:\n",
    "            print('La llista és simètrica i té {} elements diferents'.format(len(llista)//2+1))\n",
    "    else: \n",
    "        print('No és una llista simètrica')\n",
    "        \n",
    "llista_sim(['A','B','C','B','A'])\n",
    "llista_sim(['A','B','B','A'])\n",
    "llista_sim(['A','B','C','D','A'])\n",
    "llista_sim(['A','B','C','A'])\n",
    "llista_sim(['A','A'])\n",
    "llista_sim(['A'])\n",
    "llista_sim(['A','B'])"
   ]
  },
  {
   "cell_type": "markdown",
   "metadata": {},
   "source": [
    "## Exercici 5\n",
    "__Crea un programa que donada una llista, et digui quants números coincideixen amb la seva posició. Per exemple [3,4,2,0,2,3,6] el 2 i el 6 coincideixen.__"
   ]
  },
  {
   "cell_type": "code",
   "execution_count": 81,
   "metadata": {
    "scrolled": true
   },
   "outputs": [
    {
     "name": "stdout",
     "output_type": "stream",
     "text": [
      "El número 0 coincideix amb la seva posició\n",
      "El número 1 coincideix amb la seva posició\n",
      "El número 2 coincideix amb la seva posició\n",
      "El número 3 coincideix amb la seva posició\n",
      "El número 4 coincideix amb la seva posició\n",
      "Hi ha 5 números que coincideixen amb la seva posició\n",
      "El número 1 coincideix amb la seva posició\n",
      "El número 3 coincideix amb la seva posició\n",
      "El número 6 coincideix amb la seva posició\n",
      "Hi ha 3 números que coincideixen amb la seva posició\n",
      "El número 2 coincideix amb la seva posició\n",
      "El número 4 coincideix amb la seva posició\n",
      "El número 12 coincideix amb la seva posició\n",
      "Hi ha 3 números que coincideixen amb la seva posició\n"
     ]
    }
   ],
   "source": [
    "def posicio(llista):\n",
    "        q = 0\n",
    "        for i in range(len(llista)):\n",
    "            if i == llista[i]:\n",
    "                print('El número {} coincideix amb la seva posició'.format(i))\n",
    "                q += 1\n",
    "        print('Hi ha {} números que coincideixen amb la seva posició'.format(q))\n",
    "        \n",
    "posicio([0,1,2,3,4])\n",
    "posicio([3,1,5,3,6,6,6,6])\n",
    "posicio([1,6,2,'hola',4,'a',8,9,0,3,2,12,12,12,12,12,12])"
   ]
  }
 ],
 "metadata": {
  "kernelspec": {
   "display_name": "Python 3",
   "language": "python",
   "name": "python3"
  },
  "language_info": {
   "codemirror_mode": {
    "name": "ipython",
    "version": 3
   },
   "file_extension": ".py",
   "mimetype": "text/x-python",
   "name": "python",
   "nbconvert_exporter": "python",
   "pygments_lexer": "ipython3",
   "version": "3.8.5"
  }
 },
 "nbformat": 4,
 "nbformat_minor": 4
}
